{
 "cells": [
  {
   "cell_type": "code",
   "execution_count": 41,
   "metadata": {},
   "outputs": [],
   "source": [
    "import os\n",
    "import pandas as pd\n",
    "import requests\n",
    "from dotenv import load_dotenv\n",
    "import matplotlib.pyplot as plt\n",
    "from tabulate import tabulate\n",
    "import redshift_connector"
   ]
  },
  {
   "cell_type": "code",
   "execution_count": 42,
   "metadata": {},
   "outputs": [
    {
     "data": {
      "text/plain": [
       "False"
      ]
     },
     "execution_count": 42,
     "metadata": {},
     "output_type": "execute_result"
    }
   ],
   "source": [
    "load_dotenv('.env')"
   ]
  },
  {
   "cell_type": "code",
   "execution_count": 16,
   "metadata": {},
   "outputs": [],
   "source": [
    "def extract_data1(symbol):\n",
    "    try:\n",
    "        url = f'https://www.alphavantage.co/query?function=TIME_SERIES_MONTHLY&symbol={symbol}&apikey={os.getenv(\"API_KEY\")}'\n",
    "        response = requests.get(url)\n",
    "        json_data = response.json()\n",
    "        data = pd.DataFrame(json_data['Monthly Time Series'])\n",
    "        data = data.T\n",
    "        data['symbol'] = symbol\n",
    "        \n",
    "        return data\n",
    "\n",
    "    except requests.exceptions.RequestException as e:\n",
    "        print(f\"Error de solicitud: {e}\")\n",
    "        return None"
   ]
  },
  {
   "cell_type": "code",
   "execution_count": 17,
   "metadata": {},
   "outputs": [],
   "source": [
    "data_nvidia = extract_data1('NVDA')\n",
    "data_Cocacola = extract_data1('KO')\n",
    "data_Visa = extract_data1('V')\n",
    "data = pd.concat([data_nvidia , data_Cocacola, data_Visa], axis=0)"
   ]
  },
  {
   "cell_type": "code",
   "execution_count": 18,
   "metadata": {},
   "outputs": [
    {
     "data": {
      "text/html": [
       "<div>\n",
       "<style scoped>\n",
       "    .dataframe tbody tr th:only-of-type {\n",
       "        vertical-align: middle;\n",
       "    }\n",
       "\n",
       "    .dataframe tbody tr th {\n",
       "        vertical-align: top;\n",
       "    }\n",
       "\n",
       "    .dataframe thead th {\n",
       "        text-align: right;\n",
       "    }\n",
       "</style>\n",
       "<table border=\"1\" class=\"dataframe\">\n",
       "  <thead>\n",
       "    <tr style=\"text-align: right;\">\n",
       "      <th></th>\n",
       "      <th>1. open</th>\n",
       "      <th>2. high</th>\n",
       "      <th>3. low</th>\n",
       "      <th>4. close</th>\n",
       "      <th>5. volume</th>\n",
       "      <th>symbol</th>\n",
       "    </tr>\n",
       "  </thead>\n",
       "  <tbody>\n",
       "    <tr>\n",
       "      <th>2024-08-02</th>\n",
       "      <td>117.5300</td>\n",
       "      <td>120.1600</td>\n",
       "      <td>101.3700</td>\n",
       "      <td>107.2700</td>\n",
       "      <td>1005489790</td>\n",
       "      <td>NVDA</td>\n",
       "    </tr>\n",
       "    <tr>\n",
       "      <th>2024-07-31</th>\n",
       "      <td>123.4700</td>\n",
       "      <td>136.1500</td>\n",
       "      <td>102.5400</td>\n",
       "      <td>117.0200</td>\n",
       "      <td>6407092755</td>\n",
       "      <td>NVDA</td>\n",
       "    </tr>\n",
       "    <tr>\n",
       "      <th>2024-06-28</th>\n",
       "      <td>1136.2100</td>\n",
       "      <td>1255.8700</td>\n",
       "      <td>117.0100</td>\n",
       "      <td>123.5400</td>\n",
       "      <td>5234031077</td>\n",
       "      <td>NVDA</td>\n",
       "    </tr>\n",
       "    <tr>\n",
       "      <th>2024-05-31</th>\n",
       "      <td>850.7700</td>\n",
       "      <td>1158.1915</td>\n",
       "      <td>812.5456</td>\n",
       "      <td>1096.3300</td>\n",
       "      <td>964797076</td>\n",
       "      <td>NVDA</td>\n",
       "    </tr>\n",
       "    <tr>\n",
       "      <th>2024-04-30</th>\n",
       "      <td>902.9900</td>\n",
       "      <td>922.2500</td>\n",
       "      <td>756.0600</td>\n",
       "      <td>864.0200</td>\n",
       "      <td>1004973847</td>\n",
       "      <td>NVDA</td>\n",
       "    </tr>\n",
       "  </tbody>\n",
       "</table>\n",
       "</div>"
      ],
      "text/plain": [
       "              1. open    2. high    3. low   4. close   5. volume symbol\n",
       "2024-08-02   117.5300   120.1600  101.3700   107.2700  1005489790   NVDA\n",
       "2024-07-31   123.4700   136.1500  102.5400   117.0200  6407092755   NVDA\n",
       "2024-06-28  1136.2100  1255.8700  117.0100   123.5400  5234031077   NVDA\n",
       "2024-05-31   850.7700  1158.1915  812.5456  1096.3300   964797076   NVDA\n",
       "2024-04-30   902.9900   922.2500  756.0600   864.0200  1004973847   NVDA"
      ]
     },
     "execution_count": 18,
     "metadata": {},
     "output_type": "execute_result"
    }
   ],
   "source": [
    "data.head()"
   ]
  },
  {
   "cell_type": "code",
   "execution_count": 19,
   "metadata": {},
   "outputs": [],
   "source": [
    "def transform_data(data):\n",
    "    data.rename(columns = {\n",
    "        \"1. open\" : \"open\", \n",
    "        \"2. high\" : \"high\", \n",
    "        \"3. low\" : \"low\", \n",
    "        \"4. close\" : \"close\", \n",
    "        \"5. volume\" : \"volume\"\n",
    "        }, inplace=True)\n",
    "    \n",
    "    for column in data[[\"open\", \"high\", \"low\", \"close\", \"volume\"]]:\n",
    "        data[column] = data[column].astype(float)\n",
    "\n",
    "    data.reset_index(inplace=True)\n",
    "    data.rename(columns={\"index\":\"date\"}, inplace=True)\n",
    "    data.date = pd.to_datetime(data.date)\n",
    "\n",
    "    return data"
   ]
  },
  {
   "cell_type": "code",
   "execution_count": 20,
   "metadata": {},
   "outputs": [
    {
     "data": {
      "text/html": [
       "<div>\n",
       "<style scoped>\n",
       "    .dataframe tbody tr th:only-of-type {\n",
       "        vertical-align: middle;\n",
       "    }\n",
       "\n",
       "    .dataframe tbody tr th {\n",
       "        vertical-align: top;\n",
       "    }\n",
       "\n",
       "    .dataframe thead th {\n",
       "        text-align: right;\n",
       "    }\n",
       "</style>\n",
       "<table border=\"1\" class=\"dataframe\">\n",
       "  <thead>\n",
       "    <tr style=\"text-align: right;\">\n",
       "      <th></th>\n",
       "      <th>date</th>\n",
       "      <th>open</th>\n",
       "      <th>high</th>\n",
       "      <th>low</th>\n",
       "      <th>close</th>\n",
       "      <th>volume</th>\n",
       "      <th>symbol</th>\n",
       "    </tr>\n",
       "  </thead>\n",
       "  <tbody>\n",
       "    <tr>\n",
       "      <th>0</th>\n",
       "      <td>2024-08-02</td>\n",
       "      <td>117.53</td>\n",
       "      <td>120.1600</td>\n",
       "      <td>101.3700</td>\n",
       "      <td>107.27</td>\n",
       "      <td>1.005490e+09</td>\n",
       "      <td>NVDA</td>\n",
       "    </tr>\n",
       "    <tr>\n",
       "      <th>1</th>\n",
       "      <td>2024-07-31</td>\n",
       "      <td>123.47</td>\n",
       "      <td>136.1500</td>\n",
       "      <td>102.5400</td>\n",
       "      <td>117.02</td>\n",
       "      <td>6.407093e+09</td>\n",
       "      <td>NVDA</td>\n",
       "    </tr>\n",
       "    <tr>\n",
       "      <th>2</th>\n",
       "      <td>2024-06-28</td>\n",
       "      <td>1136.21</td>\n",
       "      <td>1255.8700</td>\n",
       "      <td>117.0100</td>\n",
       "      <td>123.54</td>\n",
       "      <td>5.234031e+09</td>\n",
       "      <td>NVDA</td>\n",
       "    </tr>\n",
       "    <tr>\n",
       "      <th>3</th>\n",
       "      <td>2024-05-31</td>\n",
       "      <td>850.77</td>\n",
       "      <td>1158.1915</td>\n",
       "      <td>812.5456</td>\n",
       "      <td>1096.33</td>\n",
       "      <td>9.647971e+08</td>\n",
       "      <td>NVDA</td>\n",
       "    </tr>\n",
       "    <tr>\n",
       "      <th>4</th>\n",
       "      <td>2024-04-30</td>\n",
       "      <td>902.99</td>\n",
       "      <td>922.2500</td>\n",
       "      <td>756.0600</td>\n",
       "      <td>864.02</td>\n",
       "      <td>1.004974e+09</td>\n",
       "      <td>NVDA</td>\n",
       "    </tr>\n",
       "  </tbody>\n",
       "</table>\n",
       "</div>"
      ],
      "text/plain": [
       "        date     open       high       low    close        volume symbol\n",
       "0 2024-08-02   117.53   120.1600  101.3700   107.27  1.005490e+09   NVDA\n",
       "1 2024-07-31   123.47   136.1500  102.5400   117.02  6.407093e+09   NVDA\n",
       "2 2024-06-28  1136.21  1255.8700  117.0100   123.54  5.234031e+09   NVDA\n",
       "3 2024-05-31   850.77  1158.1915  812.5456  1096.33  9.647971e+08   NVDA\n",
       "4 2024-04-30   902.99   922.2500  756.0600   864.02  1.004974e+09   NVDA"
      ]
     },
     "execution_count": 20,
     "metadata": {},
     "output_type": "execute_result"
    }
   ],
   "source": [
    "transformed_data = transform_data(data)\n",
    "transformed_data.head()"
   ]
  },
  {
   "cell_type": "code",
   "execution_count": 43,
   "metadata": {},
   "outputs": [],
   "source": [
    "def load_data(data):\n",
    "    # Nombre de la tabla y esquema\n",
    "    esquema = \"alejandroramirezz25_coderhouse\"\n",
    "    tabla = \"finance_nvidia\"\n",
    "    # Crea la conexión a Redshif\n",
    "    print(\"Conectando a Redshift...\")\n",
    "    conn = redshift_connector.connect(\n",
    "        host=os.getenv(\"REDSHIFT_HOST\"),\n",
    "        port=int(os.getenv(\"REDSHIFT_PORT\")),\n",
    "        database=os.getenv(\"REDSHIFT_DATABASE\"),\n",
    "        user=os.getenv(\"REDSHIFT_USER\"),\n",
    "        password=os.getenv(\"REDSHIFT_PASSWORD\")\n",
    "    )\n",
    "    print('Conexion a Redshift creada...')\n",
    "        # Crea la tabla en el esquema especificado\n",
    "    create_table_query = f'''\n",
    "        CREATE TABLE IF NOT EXISTS {esquema}.{tabla} (\n",
    "            \"date\" DATE distkey,\n",
    "            \"open\" VARCHAR(255),\n",
    "            high VARCHAR(255),\n",
    "            low VARCHAR(255),\n",
    "            close VARCHAR(255), \n",
    "            volume VARCHAR(255),\n",
    "            symbol VARCHAR(255)\n",
    "        ) sortkey(date);\n",
    "    '''\n",
    "\n",
    "    with conn.cursor() as cursor:\n",
    "        print(f\"Creando tabla {tabla}\")\n",
    "        cursor.execute(create_table_query)\n",
    "        print(f\"Insertando datos...\")\n",
    "        for index, row in data.iterrows():\n",
    "            cursor.execute(\n",
    "                f'''INSERT INTO {esquema}.{tabla} (\"date\", \"open\", high, low, close, volume, symbol) VALUES (%s, %s, %s, %s, %s, %s, %s)''',\n",
    "                (row['date'], row['open'], row['high'], row['low'], row['close'], row['volume'], row['symbol'])\n",
    "            )\n",
    "        cursor.execute(f\"SELECT * FROM {esquema}.{tabla} LIMIT 10\")\n",
    "        results = cursor.fetchall()\n",
    "\n",
    "        column_names = [desc[0] for desc in cursor.description]\n",
    "        table = tabulate(results, headers=column_names, tablefmt='psql')\n",
    "        print(table)\n",
    "    conn.commit()\n",
    "\n",
    "    # Cierra la conexión a Redshift\n",
    "    conn.close()"
   ]
  },
  {
   "cell_type": "code",
   "execution_count": 44,
   "metadata": {},
   "outputs": [
    {
     "name": "stdout",
     "output_type": "stream",
     "text": [
      "Conectando a Redshift...\n"
     ]
    },
    {
     "ename": "TypeError",
     "evalue": "int() argument must be a string, a bytes-like object or a real number, not 'NoneType'",
     "output_type": "error",
     "traceback": [
      "\u001b[0;31m---------------------------------------------------------------------------\u001b[0m",
      "\u001b[0;31mTypeError\u001b[0m                                 Traceback (most recent call last)",
      "Cell \u001b[0;32mIn[44], line 1\u001b[0m\n\u001b[0;32m----> 1\u001b[0m \u001b[43mload_data\u001b[49m\u001b[43m(\u001b[49m\u001b[43mtransformed_data\u001b[49m\u001b[43m)\u001b[49m\n",
      "Cell \u001b[0;32mIn[43], line 9\u001b[0m, in \u001b[0;36mload_data\u001b[0;34m(data)\u001b[0m\n\u001b[1;32m      5\u001b[0m \u001b[38;5;66;03m# Crea la conexión a Redshif\u001b[39;00m\n\u001b[1;32m      6\u001b[0m \u001b[38;5;28mprint\u001b[39m(\u001b[38;5;124m\"\u001b[39m\u001b[38;5;124mConectando a Redshift...\u001b[39m\u001b[38;5;124m\"\u001b[39m)\n\u001b[1;32m      7\u001b[0m conn \u001b[38;5;241m=\u001b[39m redshift_connector\u001b[38;5;241m.\u001b[39mconnect(\n\u001b[1;32m      8\u001b[0m     host\u001b[38;5;241m=\u001b[39mos\u001b[38;5;241m.\u001b[39mgetenv(\u001b[38;5;124m\"\u001b[39m\u001b[38;5;124mREDSHIFT_HOST\u001b[39m\u001b[38;5;124m\"\u001b[39m),\n\u001b[0;32m----> 9\u001b[0m     port\u001b[38;5;241m=\u001b[39m\u001b[38;5;28;43mint\u001b[39;49m\u001b[43m(\u001b[49m\u001b[43mos\u001b[49m\u001b[38;5;241;43m.\u001b[39;49m\u001b[43mgetenv\u001b[49m\u001b[43m(\u001b[49m\u001b[38;5;124;43m\"\u001b[39;49m\u001b[38;5;124;43mREDSHIFT_PORT\u001b[39;49m\u001b[38;5;124;43m\"\u001b[39;49m\u001b[43m)\u001b[49m\u001b[43m)\u001b[49m,\n\u001b[1;32m     10\u001b[0m     database\u001b[38;5;241m=\u001b[39mos\u001b[38;5;241m.\u001b[39mgetenv(\u001b[38;5;124m\"\u001b[39m\u001b[38;5;124mREDSHIFT_DATABASE\u001b[39m\u001b[38;5;124m\"\u001b[39m),\n\u001b[1;32m     11\u001b[0m     user\u001b[38;5;241m=\u001b[39mos\u001b[38;5;241m.\u001b[39mgetenv(\u001b[38;5;124m\"\u001b[39m\u001b[38;5;124mREDSHIFT_USER\u001b[39m\u001b[38;5;124m\"\u001b[39m),\n\u001b[1;32m     12\u001b[0m     password\u001b[38;5;241m=\u001b[39mos\u001b[38;5;241m.\u001b[39mgetenv(\u001b[38;5;124m\"\u001b[39m\u001b[38;5;124mREDSHIFT_PASSWORD\u001b[39m\u001b[38;5;124m\"\u001b[39m)\n\u001b[1;32m     13\u001b[0m )\n\u001b[1;32m     14\u001b[0m \u001b[38;5;28mprint\u001b[39m(\u001b[38;5;124m'\u001b[39m\u001b[38;5;124mConexion a Redshift creada...\u001b[39m\u001b[38;5;124m'\u001b[39m)\n\u001b[1;32m     15\u001b[0m     \u001b[38;5;66;03m# Crea la tabla en el esquema especificado\u001b[39;00m\n",
      "\u001b[0;31mTypeError\u001b[0m: int() argument must be a string, a bytes-like object or a real number, not 'NoneType'"
     ]
    }
   ],
   "source": [
    "load_data(transformed_data)"
   ]
  }
 ],
 "metadata": {
  "kernelspec": {
   "display_name": "Python 3",
   "language": "python",
   "name": "python3"
  },
  "language_info": {
   "codemirror_mode": {
    "name": "ipython",
    "version": 3
   },
   "file_extension": ".py",
   "mimetype": "text/x-python",
   "name": "python",
   "nbconvert_exporter": "python",
   "pygments_lexer": "ipython3",
   "version": "3.10.13"
  }
 },
 "nbformat": 4,
 "nbformat_minor": 2
}
